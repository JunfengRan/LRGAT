{
 "cells": [
  {
   "cell_type": "code",
   "execution_count": 1,
   "metadata": {},
   "outputs": [
    {
     "name": "stderr",
     "output_type": "stream",
     "text": [
      "/home/junfeng/miniconda3/envs/mytransformer/lib/python3.9/site-packages/tqdm/auto.py:22: TqdmWarning: IProgress not found. Please update jupyter and ipywidgets. See https://ipywidgets.readthedocs.io/en/stable/user_install.html\n",
      "  from .autonotebook import tqdm as notebook_tqdm\n"
     ]
    },
    {
     "name": "stdout",
     "output_type": "stream",
     "text": [
      " \n",
      " CustomGAT(\n",
      "  (gnn_layer_stack): ModuleDict(\n",
      "    (v_clause-level_gat): GraphAttentionLayer (4096 -> 256)\n",
      "    (v_sentence-level_gat): GraphAttentionLayer (256 -> 32)\n",
      "    (v_text-level_gat): GraphAttentionLayer (32 -> 4)\n",
      "  )\n",
      ")\n",
      "gnn_layer_stack \n",
      " ModuleDict(\n",
      "  (v_clause-level_gat): GraphAttentionLayer (4096 -> 256)\n",
      "  (v_sentence-level_gat): GraphAttentionLayer (256 -> 32)\n",
      "  (v_text-level_gat): GraphAttentionLayer (32 -> 4)\n",
      ")\n",
      "gnn_layer_stack.v_clause-level_gat \n",
      " GraphAttentionLayer (4096 -> 256)\n",
      "gnn_layer_stack.v_clause-level_gat.H \n",
      " Linear(in_features=4096, out_features=4096, bias=True)\n",
      "gnn_layer_stack.v_sentence-level_gat \n",
      " GraphAttentionLayer (256 -> 32)\n",
      "gnn_layer_stack.v_sentence-level_gat.H \n",
      " Linear(in_features=256, out_features=256, bias=True)\n",
      "gnn_layer_stack.v_text-level_gat \n",
      " GraphAttentionLayer (32 -> 4)\n",
      "gnn_layer_stack.v_text-level_gat.H \n",
      " Linear(in_features=32, out_features=32, bias=True)\n"
     ]
    }
   ],
   "source": [
    "import torch\n",
    "import torch.nn as nn\n",
    "from config import *\n",
    "from gnn_layer import GraphAttentionLayer\n",
    "\n",
    "\n",
    "configs = Config()\n",
    "\n",
    "class CustomGAT(nn.Module):\n",
    "    def __init__(self, configs, name):\n",
    "        super(CustomGAT, self).__init__()\n",
    "        self.name = name\n",
    "        in_dim = configs.feat_dim\n",
    "        self.gnn_dims = [in_dim] + [int(dim) for dim in configs.gnn_dims.strip().split(',')]\n",
    "\n",
    "        self.gnn_layers = len(self.gnn_dims) - 1\n",
    "        self.att_heads = [int(att_head) for att_head in configs.att_heads.strip().split(',')]\n",
    "        \n",
    "        if name == \"v_custom_gat\":\n",
    "            self.name_list = configs.name_list_v_gat.strip().split(',')\n",
    "        \n",
    "        self.gnn_layer_stack = nn.ModuleDict()\n",
    "        for i in range(self.gnn_layers):\n",
    "            in_dim = self.gnn_dims[i] * self.att_heads[i - 1] if i != 0 else self.gnn_dims[i]\n",
    "            self.gnn_layer_stack.update({\n",
    "                \"{}\".format(self.name_list[i]): GraphAttentionLayer(self.att_heads[i], in_dim, self.gnn_dims[i + 1], configs.dp, name=self.name_list[i])\n",
    "            })\n",
    "\n",
    "    def forward(self, feat_in, adj=None):\n",
    "        for i, gnn_layer in enumerate(self.gnn_layer_stack):\n",
    "            feat_in = gnn_layer(feat_in, adj)\n",
    "        return feat_in\n",
    "\n",
    "model = CustomGAT(configs, \"v_custom_gat\")\n",
    "\n",
    "for (name, module) in model.named_modules():\n",
    "    print(name, '\\n', module)"
   ]
  },
  {
   "cell_type": "code",
   "execution_count": null,
   "metadata": {},
   "outputs": [],
   "source": []
  }
 ],
 "metadata": {
  "kernelspec": {
   "display_name": "mytransformer",
   "language": "python",
   "name": "python3"
  },
  "language_info": {
   "codemirror_mode": {
    "name": "ipython",
    "version": 3
   },
   "file_extension": ".py",
   "mimetype": "text/x-python",
   "name": "python",
   "nbconvert_exporter": "python",
   "pygments_lexer": "ipython3",
   "version": "3.9.16"
  }
 },
 "nbformat": 4,
 "nbformat_minor": 2
}
